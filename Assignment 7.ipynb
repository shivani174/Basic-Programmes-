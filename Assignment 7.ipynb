{
 "cells": [
  {
   "cell_type": "code",
   "execution_count": null,
   "id": "1706de2f",
   "metadata": {},
   "outputs": [],
   "source": [
    "\"\"\"\n",
    "1. Write a Python Program to find sum of array?\n",
    "\n",
    "\n",
    "arr = []\n",
    "arr = [22,3,4,6,12]\n",
    "print(\"sum of array is :\",sum (arr))\n",
    "\n",
    "\n",
    "\"\"\""
   ]
  },
  {
   "cell_type": "code",
   "execution_count": null,
   "id": "50c71fcc",
   "metadata": {},
   "outputs": [],
   "source": [
    "\"\"\"\n",
    "2. Write a Python Program to find largest element in an array?\n",
    "\n",
    "Ans:\n",
    "arr = [34,44,5,12]\n",
    "max = arr[0];\n",
    "for i in range(0,len(arr)):\n",
    "    if(arr[i]>max):\n",
    "        max = arr[i];\n",
    "print(\"largest element in array is \", max)\n",
    "\n",
    "\"\"\""
   ]
  },
  {
   "cell_type": "code",
   "execution_count": null,
   "id": "6e439fd7",
   "metadata": {},
   "outputs": [],
   "source": [
    "\"\"\"\n",
    "3. Write a Python Program for array rotation?\n",
    "\n",
    "Ans:\n",
    "\n",
    "arr = [1,2,3,4,5]\n",
    "temp = arr[0]\n",
    "for i in range(0, len(arr)-1):\n",
    "        arr[i] = arr[i+1]\n",
    "arr[len(arr)-1] = temp    \n",
    "\n",
    "print(arr)\n",
    "\n",
    "\n",
    "\n",
    "\n",
    "\"\"\""
   ]
  },
  {
   "cell_type": "code",
   "execution_count": null,
   "id": "208898cf",
   "metadata": {},
   "outputs": [],
   "source": [
    "\"\"\"\n",
    "4. Write a Python Program to Split the array and add the first part to the end?\n",
    "\n",
    "Ans:\n",
    "\n",
    "def splitarr(arr, n, r):\n",
    "    for i in range(0,r):\n",
    "        k = arr[0]\n",
    "        \n",
    "        for j in range(0, n-1):\n",
    "            arr[j] = arr[j+1]\n",
    "            \n",
    "            \n",
    "        arr[n-1] = k\n",
    "arr = [2,3,4,5,6,7]\n",
    "n = len(arr)\n",
    "r = 2\n",
    "splitarr(arr,n,r)\n",
    "for i in range(0,n):\n",
    "    print(arr[i], end = ' ')\n",
    "\n",
    "\n",
    "\"\"\""
   ]
  },
  {
   "cell_type": "code",
   "execution_count": null,
   "id": "d637764f",
   "metadata": {},
   "outputs": [],
   "source": [
    "\n",
    "\"\"\"\n",
    "5. Write a Python Program to check if given array is Monotonic?\n",
    "\n",
    "Ans:\n",
    "\n",
    "def isMonotonic(arr):\n",
    "    return (all(arr[i]<=arr[i+1] for i in range(len(arr)-1)) or\n",
    "            all(arr[i] >= arr[i+1] for i in range(len(arr)-1)))\n",
    "arr = [1,2,3,4,5]\n",
    "print(isMonotonic(arr))  \n",
    "\"\"\"\n",
    "\n"
   ]
  }
 ],
 "metadata": {
  "kernelspec": {
   "display_name": "Python 3 (ipykernel)",
   "language": "python",
   "name": "python3"
  },
  "language_info": {
   "codemirror_mode": {
    "name": "ipython",
    "version": 3
   },
   "file_extension": ".py",
   "mimetype": "text/x-python",
   "name": "python",
   "nbconvert_exporter": "python",
   "pygments_lexer": "ipython3",
   "version": "3.9.12"
  }
 },
 "nbformat": 4,
 "nbformat_minor": 5
}
