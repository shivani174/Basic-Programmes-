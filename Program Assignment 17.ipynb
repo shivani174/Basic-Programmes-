{
 "cells": [
  {
   "cell_type": "code",
   "execution_count": 1,
   "id": "e2ca0d86",
   "metadata": {},
   "outputs": [
    {
     "name": "stdout",
     "output_type": "stream",
     "text": [
      "(1, 10, 20) ➞ 0\n",
      "(1, 10, 2) ➞ 30\n",
      "(1, 10, 3) ➞ 18\n"
     ]
    }
   ],
   "source": [
    "\"\"\"Question1. Create a function that takes three arguments a, b, c and returns the sum of the\n",
    "numbers that are evenly divided by c from the range a, b inclusive.\n",
    "Examples\n",
    "evenly_divisible(1, 10, 20) ➞ 0\n",
    "# No number between 1 and 10 can be evenly divided by 20.\n",
    "evenly_divisible(1, 10, 2) ➞ 30\n",
    "# 2 + 4 + 6 + 8 + 10 = 30\n",
    "evenly_divisible(1, 10, 3) ➞ 18\n",
    "# 3 + 6 + 9 = 18\"\"\"\n",
    "def evenly_divisible(a,b,c):\n",
    "    li = []\n",
    "    for num in range(a,b+1):\n",
    "        if num%c == 0:\n",
    "            li.append(num)\n",
    "    print(f'{a,b,c} ➞ {sum(li)}')\n",
    "\n",
    "evenly_divisible(1,10,20)\n",
    "evenly_divisible(1,10,2)\n",
    "evenly_divisible(1,10,3)"
   ]
  },
  {
   "cell_type": "code",
   "execution_count": 2,
   "id": "369a9375",
   "metadata": {},
   "outputs": [
    {
     "name": "stdout",
     "output_type": "stream",
     "text": [
      "Enter the inequality: 3 <7 <11\n",
      "3 <7 <11 ➞ True\n",
      "Enter the inequality: 13 > 44 > 33 > 1\n",
      "13 > 44 > 33 > 1 ➞ False\n",
      "Enter the inequality: 1 <2 <6 <9 > 3\n",
      "1 <2 <6 <9 > 3 ➞ True\n"
     ]
    }
   ],
   "source": [
    "\"\"\"Question2. Create a function that returns True if a given inequality expression is correct and\n",
    "False otherwise.\n",
    "Examples\n",
    "correct_signs('3 <7 <11') ➞ True\n",
    "correct_signs('13 > 44 > 33 > 1') ➞ False\n",
    "correct_signs('1 <2 <6 <9 > 3') ➞ True\"\"\"\n",
    "def equal():\n",
    "    n = input('Enter the inequality: ')\n",
    "    n1 = eval(n)\n",
    "    print(f'{n} ➞ {n1}')\n",
    "\n",
    "for x in range(3):\n",
    "    equal()\n"
   ]
  },
  {
   "cell_type": "code",
   "execution_count": null,
   "id": "9fcaf676",
   "metadata": {},
   "outputs": [
    {
     "name": "stdout",
     "output_type": "stream",
     "text": [
      "String: the aardvark\n",
      "Replacement character: #\n",
      "the aardvark # ➞ th# ##rdv#rk\n"
     ]
    }
   ],
   "source": [
    "\"\"\"Question3. Create a function that replaces all the vowels in a string with a specified character.\n",
    "Examples\n",
    "replace_vowels('the aardvark', '#') ➞ 'th# ##rdv#rk'\n",
    "replace_vowels('minnie mouse', '?') ➞ 'm?nn?? m??s?'\n",
    "replace_vowels('shakespeare', '*') ➞ 'sh*k*sp**r*'\"\"\"\n",
    "def replace_vowels():\n",
    "    vowels = ['a','e','i','o','u','A','E','I','O','U']\n",
    "    n= input(\"String: \")\n",
    "    n_copy = n\n",
    "    n_char = input('Replacement character: ')\n",
    "    for i in n:\n",
    "        if i in vowels:\n",
    "            n = n.replace(i,n_char)\n",
    "    print(f'{n_copy} {n_char} ➞ {n}')\n",
    "            \n",
    "for x in range(3):\n",
    "    replace_vowels()"
   ]
  },
  {
   "cell_type": "code",
   "execution_count": 1,
   "id": "cebeb5ca",
   "metadata": {},
   "outputs": [
    {
     "name": "stdout",
     "output_type": "stream",
     "text": [
      "factorial(5) ➞ 120\n",
      "factorial(3) ➞ 6\n",
      "factorial(1) ➞ 1\n",
      "factorial(0) ➞ 1\n"
     ]
    }
   ],
   "source": [
    "\"\"\"Question4. Write a function that calculates the factorial of a number recursively.\n",
    "Examples\n",
    "factorial(5) ➞ 120\n",
    "factorial(3) ➞ 6\n",
    "factorial(1) ➞ 1\n",
    "factorial(0) ➞ 1\"\"\"\n",
    "def factorial(n):\n",
    "    if n==0:\n",
    "        return 1\n",
    "    return n * factorial(n-1)\n",
    "\n",
    "print(f'factorial(5) ➞ {factorial(5)}')\n",
    "print(f'factorial(3) ➞ {factorial(3)}')\n",
    "print(f'factorial(1) ➞ {factorial(1)}')\n",
    "print(f'factorial(0) ➞ {factorial(0)}')"
   ]
  },
  {
   "cell_type": "code",
   "execution_count": null,
   "id": "bfd94776",
   "metadata": {},
   "outputs": [],
   "source": []
  }
 ],
 "metadata": {
  "kernelspec": {
   "display_name": "Python 3 (ipykernel)",
   "language": "python",
   "name": "python3"
  },
  "language_info": {
   "codemirror_mode": {
    "name": "ipython",
    "version": 3
   },
   "file_extension": ".py",
   "mimetype": "text/x-python",
   "name": "python",
   "nbconvert_exporter": "python",
   "pygments_lexer": "ipython3",
   "version": "3.9.12"
  }
 },
 "nbformat": 4,
 "nbformat_minor": 5
}
