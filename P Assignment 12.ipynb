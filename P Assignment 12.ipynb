{
 "cells": [
  {
   "cell_type": "code",
   "execution_count": 4,
   "id": "77ef56c8",
   "metadata": {},
   "outputs": [
    {
     "name": "stdout",
     "output_type": "stream",
     "text": [
      "dict_values(['Scala', 'Swift', 'caravan', 'audi', 'duster', 'audi'])\n",
      "Unique Values: ['Swift', 'caravan', 'audi', 'Scala', 'duster']\n"
     ]
    }
   ],
   "source": [
    "\"\"\"1. Write a Python program to Extract Unique values dictionary values?\"\"\"\n",
    "dict_ = {'car1':'Scala','car2':'Swift','car3':'caravan','car4':'audi','car5':'duster','car6' : 'audi'}\n",
    "print(dict_.values())\n",
    "print(f'Unique Values: {list(set(dict_.values()))}')\n"
   ]
  },
  {
   "cell_type": "code",
   "execution_count": 5,
   "id": "52107a39",
   "metadata": {},
   "outputs": [
    {
     "name": "stdout",
     "output_type": "stream",
     "text": [
      "sum = 131\n"
     ]
    }
   ],
   "source": [
    "\"\"\"2. Write a Python program to find the sum of all items in a dictionary?\"\"\"\n",
    "\n",
    "a = {'a':11,'b':100,'c':20}\n",
    "print(\"sum =\",sum(a.values()))"
   ]
  },
  {
   "cell_type": "code",
   "execution_count": 9,
   "id": "d4662f93",
   "metadata": {},
   "outputs": [
    {
     "name": "stdout",
     "output_type": "stream",
     "text": [
      "{'a': 11, 'b': 100, 'c': 20}\n"
     ]
    }
   ],
   "source": [
    "\"\"\" 3. Write a Python program to Merging two Dictionaries? \"\"\"\n",
    "a = {'a':11,'b':100}\n",
    "a1 = {'c': 20}\n",
    "a.update(a1)\n",
    "print(a)\n"
   ]
  },
  {
   "cell_type": "code",
   "execution_count": 10,
   "id": "c5e0ec5c",
   "metadata": {},
   "outputs": [
    {
     "data": {
      "text/plain": [
       "{'a': 11, 'b': 100, 'c': 20}"
      ]
     },
     "execution_count": 10,
     "metadata": {},
     "output_type": "execute_result"
    }
   ],
   "source": [
    "\"\"\"4. Write a Python program to convert key-values list to flat dictionary?\"\"\"\n",
    "list1 = [('a',11),('b',100),('c', 20)]\n",
    "dict(list1)"
   ]
  },
  {
   "cell_type": "code",
   "execution_count": 15,
   "id": "a567d6d5",
   "metadata": {},
   "outputs": [
    {
     "name": "stdout",
     "output_type": "stream",
     "text": [
      "a OrderedDict([('car1', 'Scala'), ('car2', 'Swift'), ('car3', 'caravan'), ('car4', 'audi'), ('car5', 'duster'), ('car6', 'audi')])\n",
      "a OrderedDict([('car1', 'Scala'), ('car2', 'Swift'), ('car3', 'caravan'), ('car4', 'audi'), ('car5', 'duster'), ('car6', 'audi'), ('Renault', 'Scal')])\n",
      "a OrderedDict([('Renault', 'Scal'), ('car1', 'Scala'), ('car2', 'Swift'), ('car3', 'caravan'), ('car4', 'audi'), ('car5', 'duster'), ('car6', 'audi')])\n"
     ]
    }
   ],
   "source": [
    "\"\"\" 5. Write a Python program to insertion at the beginning in OrderedDict? \"\"\"\n",
    "from collections import OrderedDict\n",
    "a = OrderedDict({'car1':'Scala','car2':'Swift','car3':'caravan','car4':'audi','car5':'duster','car6' : 'audi'})\n",
    "print('a',a)\n",
    "b = {'Renault':'Scal'}\n",
    "a.update(b)\n",
    "print('a',a)\n",
    "a.move_to_end('Renault',last=False)\n",
    "print('a',a)"
   ]
  },
  {
   "cell_type": "code",
   "execution_count": 13,
   "id": "b4101029",
   "metadata": {},
   "outputs": [
    {
     "name": "stdout",
     "output_type": "stream",
     "text": [
      "OrderedDict([('a', 11), ('b', 100), ('c', 12), ('d', 20)])\n"
     ]
    }
   ],
   "source": [
    "\"\"\" 6. Write a Python program to check order of character in string using OrderedDict()? \"\"\"\n",
    "from collections import OrderedDict\n",
    "list1 = {'a':11,'b':100,'d':20,'c':12}\n",
    "list2 = OrderedDict(dict(sorted(list1.items())))\n",
    "print(list2)"
   ]
  },
  {
   "cell_type": "code",
   "execution_count": 16,
   "id": "05423b12",
   "metadata": {},
   "outputs": [
    {
     "name": "stdout",
     "output_type": "stream",
     "text": [
      "{'Banana': 60, 'Grape': 13, 'Mango': 100, 'PineApple': 22}\n",
      "{'Grape': 13, 'PineApple': 22, 'Banana': 60, 'Mango': 100}\n"
     ]
    }
   ],
   "source": [
    "\"\"\"7. Write a Python program to sort Python Dictionaries by Key or Value?\"\"\"\n",
    "d_items = {'Mango':100,'PineApple':22,'Banana':60,'Grape':13}\n",
    "def sort_dict(in_dict,sort_type):\n",
    "    if sort_type == 'key':\n",
    "        print(dict(sorted(in_dict.items(), key=lambda x:x[0], reverse=False)))\n",
    "    else:\n",
    "        print(dict(sorted(in_dict.items(), key=lambda x:x[1], reverse=False)))\n",
    "sort_dict(d_items,'key')        \n",
    "sort_dict(d_items,'value')"
   ]
  }
 ],
 "metadata": {
  "kernelspec": {
   "display_name": "Python 3 (ipykernel)",
   "language": "python",
   "name": "python3"
  },
  "language_info": {
   "codemirror_mode": {
    "name": "ipython",
    "version": 3
   },
   "file_extension": ".py",
   "mimetype": "text/x-python",
   "name": "python",
   "nbconvert_exporter": "python",
   "pygments_lexer": "ipython3",
   "version": "3.9.12"
  }
 },
 "nbformat": 4,
 "nbformat_minor": 5
}
