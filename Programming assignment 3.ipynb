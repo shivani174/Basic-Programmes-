{
 "cells": [
  {
   "cell_type": "code",
   "execution_count": null,
   "id": "d595a9c2",
   "metadata": {},
   "outputs": [],
   "source": [
    "\"\"\"\n",
    "1. Write a Python Program to Check if a Number is Positive, Negative or Zero?\n",
    "\n",
    "\n",
    "Ans: \n",
    "\n",
    "\n",
    "num = float(input())\n",
    "if(num>0):\n",
    "    print(\"Positive\")\n",
    "elif(num<0):\n",
    "    print(\"Negative\")\n",
    "else:\n",
    "    print(\"Zero\")\n",
    "\n",
    "\n",
    "\"\"\""
   ]
  },
  {
   "cell_type": "code",
   "execution_count": null,
   "id": "61eb5cec",
   "metadata": {},
   "outputs": [],
   "source": [
    "\"\"\"\n",
    "2. Write a Python Program to Check if a Number is Odd or Even?\n",
    "\n",
    "Ans:\n",
    "\n",
    "num = int(input())\n",
    "if(num%2==0):\n",
    "    print(\"Even\")\n",
    "else:\n",
    "    print('odd')\n",
    "    \n",
    "\n",
    "\n",
    "\n",
    "\n",
    "\"\"\""
   ]
  },
  {
   "cell_type": "code",
   "execution_count": null,
   "id": "c85d7922",
   "metadata": {},
   "outputs": [],
   "source": [
    "\"\"\"\n",
    "3. Write a Python Program to Check Leap Year?\n",
    "\n",
    "Ans: \n",
    "\n",
    "year = int(input())\n",
    "if(year%100==0) and (year % 400==0):\n",
    "    print(\"Leap Year\")\n",
    "else:\n",
    "    print(\"Not leap year\")\n",
    "\n",
    "\n",
    "\"\"\""
   ]
  },
  {
   "cell_type": "code",
   "execution_count": null,
   "id": "efff4837",
   "metadata": {},
   "outputs": [],
   "source": [
    "\"\"\"\n",
    "4. Write a Python Program to Check Prime Number?\n",
    "\n",
    "Ans:\n",
    "\n",
    "num = int(input())\n",
    "if num>1:\n",
    "    for i in range(2,num):\n",
    "        if(num%i==0):\n",
    "            print(\"not a Prime Number\")\n",
    "            break\n",
    "    else:\n",
    "        print(\"prime number\")\n",
    "else:\n",
    "    print(\"not a prime number\")\n",
    "    \n",
    "\"\"\"\n",
    "    "
   ]
  },
  {
   "cell_type": "code",
   "execution_count": null,
   "id": "d9829fdd",
   "metadata": {},
   "outputs": [],
   "source": [
    "\"\"\"\n",
    "5. Write a Python Program to Print all Prime Numbers in an Interval of 1-10000?\n",
    "\n",
    "Ans:\n",
    "\n",
    "for i in range(1,10001):\n",
    "    if i>1:\n",
    "        for n in range(2,i):\n",
    "            if (i%n)==0:\n",
    "                break\n",
    "        else:\n",
    "                print(i)\n",
    "\n",
    "\"\"\""
   ]
  }
 ],
 "metadata": {
  "kernelspec": {
   "display_name": "Python 3 (ipykernel)",
   "language": "python",
   "name": "python3"
  },
  "language_info": {
   "codemirror_mode": {
    "name": "ipython",
    "version": 3
   },
   "file_extension": ".py",
   "mimetype": "text/x-python",
   "name": "python",
   "nbconvert_exporter": "python",
   "pygments_lexer": "ipython3",
   "version": "3.9.12"
  }
 },
 "nbformat": 4,
 "nbformat_minor": 5
}
