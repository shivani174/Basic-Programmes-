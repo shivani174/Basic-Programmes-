{
 "cells": [
  {
   "cell_type": "code",
   "execution_count": null,
   "id": "cca929b2",
   "metadata": {},
   "outputs": [],
   "source": [
    "\"\"\"\n",
    "1. Write a Python Program to Display Fibonacci Sequence Using Recursion?\n",
    "\n",
    "Ans:\n",
    "\n",
    "def fib(n):\n",
    "    if n==0:\n",
    "        return 0\n",
    "    elif n==1:\n",
    "        return 1\n",
    "    else:\n",
    "        return fib(n-1)+fib(n-2)\n",
    "    \n",
    "for i in range(10):\n",
    "    print(fib(i), end = \"  \")\n",
    "    \n",
    "\"\"\""
   ]
  },
  {
   "cell_type": "code",
   "execution_count": null,
   "id": "06d823db",
   "metadata": {},
   "outputs": [],
   "source": [
    "\"\"\"\n",
    "2. Write a Python Program to Find Factorial of Number Using Recursion?\n",
    "\n",
    "Ans:\n",
    "\n",
    "def fact(n):\n",
    "        if n==0:\n",
    "            return 1\n",
    "        \n",
    "        return n*fact(n-1)\n",
    "    \n",
    "n = int(input())\n",
    "result = fact(n)\n",
    "print(result)\n",
    "\n",
    "\"\"\""
   ]
  },
  {
   "cell_type": "code",
   "execution_count": null,
   "id": "4b35c4a0",
   "metadata": {},
   "outputs": [],
   "source": [
    "\"\"\"\n",
    "3. Write a Python Program to calculate your Body Mass Index?\n",
    "\n",
    "Ans:\n",
    "\n",
    "weight = float(input(\"Enter your weight in kg: \"))\n",
    "height = float(input(\"Enter your height in cm: \"))\n",
    "c = (height/100)**2\n",
    "BMI = weight/c\n",
    "print(\"Your BMI is \", BMI)\n",
    "\n",
    "\n",
    "\"\"\""
   ]
  },
  {
   "cell_type": "code",
   "execution_count": null,
   "id": "9ae6d781",
   "metadata": {},
   "outputs": [],
   "source": [
    "\"\"\"\n",
    "4. Write a Python Program to calculate the natural logarithm of any number?\n",
    "\n",
    "Ans: \n",
    "\n",
    "import math\n",
    "num = int(input())\n",
    "print(math.log(num))\n",
    "\n",
    "\n",
    "\n",
    "\"\"\""
   ]
  },
  {
   "cell_type": "code",
   "execution_count": null,
   "id": "96ee808a",
   "metadata": {},
   "outputs": [],
   "source": [
    "\"\"\"\n",
    "5. Write a Python Program for cube sum of first n natural numbers?\n",
    "\n",
    "Ans:\n",
    "num = int(input())\n",
    "sum = 0\n",
    "for i in range(1,num+1):\n",
    "    sum += (i**3)\n",
    "print(sum)\n",
    "\n",
    "\n",
    "\"\"\""
   ]
  }
 ],
 "metadata": {
  "kernelspec": {
   "display_name": "Python 3 (ipykernel)",
   "language": "python",
   "name": "python3"
  },
  "language_info": {
   "codemirror_mode": {
    "name": "ipython",
    "version": 3
   },
   "file_extension": ".py",
   "mimetype": "text/x-python",
   "name": "python",
   "nbconvert_exporter": "python",
   "pygments_lexer": "ipython3",
   "version": "3.9.12"
  }
 },
 "nbformat": 4,
 "nbformat_minor": 5
}
