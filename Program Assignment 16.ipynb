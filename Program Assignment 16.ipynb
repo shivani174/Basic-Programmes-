{
 "cells": [
  {
   "cell_type": "code",
   "execution_count": null,
   "id": "45af68df",
   "metadata": {},
   "outputs": [
    {
     "name": "stdout",
     "output_type": "stream",
     "text": [
      "Enter the Word :incredible\n",
      "incredible ➞ in... in... incredible?\n"
     ]
    }
   ],
   "source": [
    "\"\"\"Question1. Write a function that stutters a word as if someone is struggling to read it. The\n",
    "first two letters are repeated twice with an ellipsis ... and space after each, and then the\n",
    "word is pronounced with a question mark ?.\n",
    "Examples\n",
    "stutter('incredible') ➞ 'in... in... incredible?'\n",
    "stutter('enthusiastic') ➞ 'en... en... enthusiastic?'\n",
    "stutter('outstanding') ➞ 'ou... ou... outstanding?'\n",
    "\n",
    "Hint :- Assume all input is in lower case and at least two characters long.\"\"\"\n",
    "def stutter():\n",
    "    n = input('Enter the Word :')\n",
    "    n1 = n.replace(n[0:2],((n[0:2]+'... ')*2)+ n[0:2])  +'?'\n",
    "    print(f'{n} ➞ {n1}')\n",
    "\n",
    "for i in range(3):\n",
    "    stutter()"
   ]
  },
  {
   "cell_type": "code",
   "execution_count": 1,
   "id": "dc9e8399",
   "metadata": {},
   "outputs": [
    {
     "name": "stdout",
     "output_type": "stream",
     "text": [
      "Enter the angle in Radians: 1\n",
      "1 radian(s) ➞ 57.3 degrees\n",
      "Enter the angle in Radians: 20\n",
      "20 radian(s) ➞ 1145.9 degrees\n",
      "Enter the angle in Radians: 50\n",
      "50 radian(s) ➞ 2864.8 degrees\n"
     ]
    }
   ],
   "source": [
    "\"\"\"Question 2.Create a function that takes an angle in radians and returns the corresponding\n",
    "angle in degrees rounded to one decimal place.\n",
    "Examples\n",
    "radians_to_degrees(1) ➞ 57.3\n",
    "radians_to_degrees(20) ➞ 1145.9\n",
    "radians_to_degrees(50) ➞ 2864.8\"\"\"\n",
    "import math\n",
    "def radToDegre():\n",
    "    num = int(input('Enter the angle in Radians: '))\n",
    "    num1 = (180/math.pi)*num\n",
    "    print(f'{num} radian(s) ➞ {num1:.1f} degrees')\n",
    "\n",
    "for x in range(3):\n",
    "    radToDegre()"
   ]
  },
  {
   "cell_type": "code",
   "execution_count": null,
   "id": "0857c57b",
   "metadata": {},
   "outputs": [
    {
     "name": "stdout",
     "output_type": "stream",
     "text": [
      "Enter a number: 5\n",
      "5 is a Curzon Number\n",
      "Enter a number: 10\n",
      "10 is Not a Curzon Number\n"
     ]
    }
   ],
   "source": [
    "\"\"\"Question 3. In this challenge, establish if a given integer num is a Curzon number. If 1 plus\n",
    "2 elevated to num is exactly divisible by 1 plus 2 multiplied by num, then num is a Curzon\n",
    "number.\"\"\"\n",
    "def Curzon_num():\n",
    "    num = int(input(\"Enter a number: \"))\n",
    "    if (pow(2,num)+1)%((2*num)+1) == 0:\n",
    "        print(f'{num} is a Curzon Number')\n",
    "    else:\n",
    "        print(f'{num} is Not a Curzon Number')\n",
    "\n",
    "for x in range(4):\n",
    "    Curzon_num()"
   ]
  },
  {
   "cell_type": "code",
   "execution_count": null,
   "id": "556a8a7f",
   "metadata": {},
   "outputs": [],
   "source": [
    "\"\"\"Question 4.Given the side length x find the area of a hexagon.\n",
    "Examples\n",
    "area_of_hexagon(1) ➞ 2.6\n",
    "area_of_hexagon(2) ➞ 10.4\n",
    "area_of_hexagon(3) ➞ 23.4\"\"\"\n",
    "import math\n",
    "def areaOfhex():\n",
    "    num = int(input('Enter the side length of a Hexagon: '))\n",
    "    out1 = ((3*math.sqrt(3))/2)*(pow(num,2))\n",
    "    print(f'Area for Hexagon of sidelength {num} ➞ {out1:.1f}')\n",
    "    \n",
    "for x in range(3):\n",
    "    areaOfhex()"
   ]
  },
  {
   "cell_type": "code",
   "execution_count": null,
   "id": "3949deca",
   "metadata": {},
   "outputs": [],
   "source": [
    "\"\"\"Question 5. Create a function that returns a base-2 (binary) representation of a base-10\n",
    "(decimal) string number. To convert is simple: ((2) means base-2 and (10) means base-10)\n",
    "010101001(2) = 1 + 8 + 32 + 128.\n",
    "Going from right to left, the value of the most right bit is 1, now from that every bit to the left\n",
    "will be x2 the value, value of an 8 bit binary numbers are (256, 128, 64, 32, 16, 8, 4, 2, 1).\n",
    "Examples\n",
    "binary(1) ➞ '1'\n",
    "# 1*1 = 1\n",
    "binary(5) ➞ '101'\n",
    "# 1*1 + 1*4 = 5\n",
    "binary(10) ➞ '1010'\n",
    "# 1*2 + 1*8 = 10\"\"\"\n",
    "def binary():\n",
    "    num = int(input(\"Enter a Number: \"))\n",
    "    num1 = bin(num).replace('0b','') \n",
    "    print(f'Binary of {num} ➞ {num1}')\n",
    "\n",
    "for x in range(3):\n",
    "    binary()"
   ]
  },
  {
   "cell_type": "code",
   "execution_count": null,
   "id": "eaa25232",
   "metadata": {},
   "outputs": [],
   "source": []
  }
 ],
 "metadata": {
  "kernelspec": {
   "display_name": "Python 3 (ipykernel)",
   "language": "python",
   "name": "python3"
  },
  "language_info": {
   "codemirror_mode": {
    "name": "ipython",
    "version": 3
   },
   "file_extension": ".py",
   "mimetype": "text/x-python",
   "name": "python",
   "nbconvert_exporter": "python",
   "pygments_lexer": "ipython3",
   "version": "3.9.12"
  }
 },
 "nbformat": 4,
 "nbformat_minor": 5
}
