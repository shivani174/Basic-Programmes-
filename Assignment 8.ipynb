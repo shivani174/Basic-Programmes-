{
 "cells": [
  {
   "cell_type": "code",
   "execution_count": null,
   "id": "dde4f380",
   "metadata": {},
   "outputs": [],
   "source": [
    "\"\"\"\n",
    "1. Write a Python Program to Add Two Matrices?\n",
    "\n",
    "Ans: \n",
    "\n",
    "x = [[2,3,4],[1,2,3]]\n",
    "y = [[7,6,6],[3,1,2]]\n",
    "z = [[0,0,0],[0,0,0]]\n",
    "\n",
    "for i in range(len(x)):\n",
    "    for j in range(len(x[0])):\n",
    "        z[i][j] = x[i][j] + y[i][j]\n",
    "print(z)\n",
    "\n",
    "\n",
    "\"\"\""
   ]
  },
  {
   "cell_type": "code",
   "execution_count": null,
   "id": "36d4afec",
   "metadata": {},
   "outputs": [],
   "source": [
    "\"\"\"\n",
    "2. Write a Python Program to Multiply Two Matrices?\n",
    "\n",
    "Ans:\n",
    "\n",
    "x = [[2,3,4],[1,2,3]]\n",
    "y = [[7,6,6],[3,1,2]]\n",
    "z = [[0,0,0],[0,0,0]]\n",
    "for i in range(len(x)):\n",
    "    for j in range(len(x[0])):\n",
    "        z[i][j] = x[i][j] * y[i][j]\n",
    "print(z)\n",
    "\n",
    "x = [[1,5],[6,7],[7,8]]\n",
    "z = [[0,0,0],[0,0,0]]\n",
    "\n",
    "for i in range(len(x)):\n",
    "     for j in range(len(x[0])):\n",
    "            z[j][i] = x[i][j] \n",
    "\n",
    "print(z)\n",
    "\"\"\""
   ]
  },
  {
   "cell_type": "code",
   "execution_count": null,
   "id": "317c78e8",
   "metadata": {},
   "outputs": [],
   "source": [
    "\"\"\"\n",
    "3. Write a Python Program to Transpose a Matrix?\n",
    "\n",
    "Ans:\n",
    "def Transpse(a):\n",
    "    for i in range(len(a)):\n",
    "        for j in range(len(a[0])):\n",
    "            res[j][i] = a[i][j]\n",
    "            \n",
    "a =  [[1,2],[4,5],[9,8]]\n",
    "res = [[0,0,0],[0,0,0]]\n",
    "\n",
    "Transpse(a)\n",
    "\n",
    "for i in res:\n",
    "    print(i)\n",
    "\n",
    "\"\"\""
   ]
  },
  {
   "cell_type": "code",
   "execution_count": null,
   "id": "543a0df3",
   "metadata": {},
   "outputs": [],
   "source": [
    "\"\"\"\n",
    "4. Write a Python Program to Sort Words in Alphabetic Order?\n",
    "\n",
    "inp = input(\"Enter any sentence: \")\n",
    "sep = inp.split()\n",
    "sep.sort()\n",
    "for i in sep:\n",
    "    print(i, end =' ')\n",
    "\n",
    "\"\"\""
   ]
  },
  {
   "cell_type": "code",
   "execution_count": 6,
   "id": "ba04fd07",
   "metadata": {},
   "outputs": [
    {
     "name": "stdout",
     "output_type": "stream",
     "text": [
      "!\"#$%&'()*+,-./:;<=>?@[\\]^_`{|}~\n"
     ]
    }
   ],
   "source": [
    "import string\n",
    "print(string.punctuation)"
   ]
  },
  {
   "cell_type": "code",
   "execution_count": null,
   "id": "d0f55578",
   "metadata": {},
   "outputs": [],
   "source": [
    "\"\"\"\n",
    "5. Write a Python Program to Remove Punctuation From a String?\n",
    "\n",
    "Ans:\n",
    "punctuations = '''!#$%&'()*+,-./:;<=>?@[\\]^_`{|}~\"'''\n",
    "a = input(\"Enter a word : \")\n",
    "for i in a:\n",
    "    if i not in punctuations:\n",
    "        print(i, end = '')\n",
    "        \n",
    "\"\"\"\n"
   ]
  }
 ],
 "metadata": {
  "kernelspec": {
   "display_name": "Python 3 (ipykernel)",
   "language": "python",
   "name": "python3"
  },
  "language_info": {
   "codemirror_mode": {
    "name": "ipython",
    "version": 3
   },
   "file_extension": ".py",
   "mimetype": "text/x-python",
   "name": "python",
   "nbconvert_exporter": "python",
   "pygments_lexer": "ipython3",
   "version": "3.9.12"
  }
 },
 "nbformat": 4,
 "nbformat_minor": 5
}
