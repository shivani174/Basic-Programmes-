{
 "cells": [
  {
   "cell_type": "code",
   "execution_count": null,
   "id": "fec570fa",
   "metadata": {},
   "outputs": [],
   "source": [
    "\"\"\"\n",
    "\n",
    "1. Write a Python Program to Find LCM?\n",
    "\n",
    "Ans:\n",
    "\n",
    "a = int(input(\"Enter first number:\" ))\n",
    "b = int(input(\"Enter second number:\" ))\n",
    "if (a>b):\n",
    "    big = a\n",
    "    \n",
    "else:\n",
    "    big = b\n",
    "        \n",
    "while(1): \n",
    "    if(big%a==0)and(big%b==0):\n",
    "            print(\"LCM is :\"big)\n",
    "            big+=1\n",
    "        \n",
    "     \n",
    "\"\"\""
   ]
  },
  {
   "cell_type": "code",
   "execution_count": null,
   "id": "ee0493ed",
   "metadata": {},
   "outputs": [],
   "source": [
    "\"\"\"\n",
    "2. Write a Python Program to Find HCF?\n",
    "\n",
    "Ans: \n",
    "a = int(input(\"Enter first number:\" ))\n",
    "b = int(input(\"Enter second number:\" ))\n",
    "if(a>b):\n",
    "    big = a\n",
    "else:\n",
    "    big = b\n",
    "  \n",
    "for i in range(1,big):\n",
    "    if(a%i==0)and(b%i==0):\n",
    "        hcf = i\n",
    "        \n",
    "print(\"HCF :\",hcf)\n",
    "        \n",
    "\n",
    "\n",
    "\"\"\""
   ]
  },
  {
   "cell_type": "code",
   "execution_count": null,
   "id": "9831db5c",
   "metadata": {},
   "outputs": [],
   "source": [
    "\"\"\"\n",
    "3. Write a Python Program to Convert Decimal to Binary, Octal and Hexadecimal?\n",
    "\n",
    "Ans:\n",
    "\n",
    "num = int(input())\n",
    "print(bin(num))\n",
    "print(oct(num))\n",
    "print(hex(num))\n",
    "\n",
    "\"\"\""
   ]
  },
  {
   "cell_type": "code",
   "execution_count": null,
   "id": "cb43d21a",
   "metadata": {},
   "outputs": [],
   "source": [
    "\"\"\"\n",
    "4. Write a Python Program To Find ASCII value of a character?\n",
    "\n",
    "Ans:\n",
    "char = input()\n",
    "print(ord(char))\n",
    "\n",
    "\"\"\""
   ]
  },
  {
   "cell_type": "code",
   "execution_count": null,
   "id": "4cf4e1cc",
   "metadata": {},
   "outputs": [],
   "source": [
    "\"\"\"\n",
    "5. Write a Python Program to Make a Simple Calculator with 4 basic mathematical operations?\n",
    "\n",
    "Ans:  \n",
    "\n",
    "print(\"\\n 1. Addition \\n 2. Subtraction \\n 3. Division \\n 4. Multiplication\")\n",
    "opt = input(\"Enter number from above choice : \")\n",
    "n1 = float(input(\"Enter 1st number:\" ))\n",
    "n2 = float(input(\"Enter 2nd number:\" ))\n",
    "if(opt == '1'):\n",
    "    print(n1, \"+\", n2, \"=\", int(n1+n2))\n",
    "elif(opt== '2'):\n",
    "    print(n1, \"-\", n2, \"=\", int(n1-n2))\n",
    "elif(opt == '3'):\n",
    "    if(n2==0):\n",
    "        print(\"Zero error\")\n",
    "    else:\n",
    "        print(n1, \"/\", n2, \"=\", (n1/n2))\n",
    "else:\n",
    "    print(n1, \"x\", n2, \"=\", int(n1*n2))\n",
    "\n",
    "\"\"\""
   ]
  }
 ],
 "metadata": {
  "kernelspec": {
   "display_name": "Python 3 (ipykernel)",
   "language": "python",
   "name": "python3"
  },
  "language_info": {
   "codemirror_mode": {
    "name": "ipython",
    "version": 3
   },
   "file_extension": ".py",
   "mimetype": "text/x-python",
   "name": "python",
   "nbconvert_exporter": "python",
   "pygments_lexer": "ipython3",
   "version": "3.9.12"
  }
 },
 "nbformat": 4,
 "nbformat_minor": 5
}
