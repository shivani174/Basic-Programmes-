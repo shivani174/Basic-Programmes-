{
 "cells": [
  {
   "cell_type": "code",
   "execution_count": 2,
   "id": "317f8f54",
   "metadata": {},
   "outputs": [
    {
     "name": "stdout",
     "output_type": "stream",
     "text": [
      "Hello Python\n"
     ]
    }
   ],
   "source": [
    "\"\"\"\n",
    "1. Write a Python program to print \"Hello Python\"?\n",
    "\n",
    "\"\"\"\n",
    "\n",
    "print(\"Hello Python\")"
   ]
  },
  {
   "cell_type": "code",
   "execution_count": null,
   "id": "4758c5dc",
   "metadata": {},
   "outputs": [],
   "source": [
    "\"\"\"\n",
    "2. Write a Python program to do arithmetical operations addition and division.?\n",
    "\n",
    "\"\"\"\n",
    "a = int(input()) \n",
    "b = int(input())\n",
    "c = a+b\n",
    "d = a/b\n",
    "print(\"The sum of\",a,\"and\",b,\"is\",c)\n",
    "print(\"The division of\",a,\"and\",b,\"is\", d)"
   ]
  },
  {
   "cell_type": "code",
   "execution_count": 1,
   "id": "c40608ae",
   "metadata": {},
   "outputs": [
    {
     "name": "stdout",
     "output_type": "stream",
     "text": [
      "3\n",
      "4\n",
      "3\n",
      "Area of triangle is 4.47213595499958\n"
     ]
    }
   ],
   "source": [
    "\"\"\"\n",
    "3. Write a Python program to find the area of a triangle?\n",
    "\n",
    "\"\"\"\n",
    "a = float(input())\n",
    "b = float(input())\n",
    "c = float(input())\n",
    "\n",
    "s = (a+b+c)/2\n",
    "\n",
    "area = (s*(s-a)*(s-b)*(s-c))**0.5\n",
    "\n",
    "print(\"Area of triangle is\", area)"
   ]
  },
  {
   "cell_type": "code",
   "execution_count": 5,
   "id": "551e2401",
   "metadata": {},
   "outputs": [
    {
     "name": "stdout",
     "output_type": "stream",
     "text": [
      "5\n",
      "6\n",
      "after swapping value is : ( 6 , 5 )\n"
     ]
    }
   ],
   "source": [
    "\"\"\"\n",
    "4. Write a Python program to swap two variables?\n",
    "\"\"\"\n",
    "\n",
    "\n",
    "a = int(input())\n",
    "b = int(input())\n",
    "a,b = b, a\n",
    "print(\"after swapping value is :\",\"(\",a,',',b,\")\")"
   ]
  },
  {
   "cell_type": "code",
   "execution_count": 1,
   "id": "9f2ffde4",
   "metadata": {},
   "outputs": [
    {
     "name": "stdout",
     "output_type": "stream",
     "text": [
      "0.09035342660400414\n"
     ]
    }
   ],
   "source": [
    "\"\"\"\n",
    "5. Write a Python program to generate a random number?\n",
    "\"\"\"\n",
    "import random\n",
    "a = random.random()\n",
    "print(a)\n"
   ]
  }
 ],
 "metadata": {
  "kernelspec": {
   "display_name": "Python 3 (ipykernel)",
   "language": "python",
   "name": "python3"
  },
  "language_info": {
   "codemirror_mode": {
    "name": "ipython",
    "version": 3
   },
   "file_extension": ".py",
   "mimetype": "text/x-python",
   "name": "python",
   "nbconvert_exporter": "python",
   "pygments_lexer": "ipython3",
   "version": "3.9.7"
  }
 },
 "nbformat": 4,
 "nbformat_minor": 5
}
