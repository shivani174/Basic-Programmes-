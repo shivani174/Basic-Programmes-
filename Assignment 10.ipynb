{
 "cells": [
  {
   "cell_type": "code",
   "execution_count": 3,
   "id": "1acf2d52",
   "metadata": {},
   "outputs": [
    {
     "name": "stdout",
     "output_type": "stream",
     "text": [
      "0\n"
     ]
    }
   ],
   "source": [
    "\"\"\"\n",
    "1. Write a Python program to find sum of elements in list?\n",
    "\n",
    "Ans:\n",
    "\n",
    "list1 = [1,4,34,22,5]\n",
    "sum = 0\n",
    "for i in range(0,len(list1)):\n",
    "    sum += list1[i]\n",
    "\n",
    "print(sum)\n",
    "\n",
    "\"\"\""
   ]
  },
  {
   "cell_type": "code",
   "execution_count": 2,
   "id": "3330c78a",
   "metadata": {},
   "outputs": [
    {
     "name": "stdout",
     "output_type": "stream",
     "text": [
      "24\n"
     ]
    }
   ],
   "source": [
    "\"\"\"\n",
    "2. Write a Python program to Multiply all numbers in the list?\n",
    "\n",
    "Ans:\n",
    "    \n",
    "import numpy as np\n",
    "list1 = [1,2,3,4]\n",
    "res = np.prod(list1)\n",
    "print(res)\n",
    "\n",
    "\"\"\""
   ]
  },
  {
   "cell_type": "code",
   "execution_count": 6,
   "id": "d3f1a6b1",
   "metadata": {},
   "outputs": [
    {
     "name": "stdout",
     "output_type": "stream",
     "text": [
      "5\n"
     ]
    }
   ],
   "source": [
    "\"\"\"\n",
    "3. Write a Python program to find smallest number in a list?\n",
    "\n",
    "Ans:\n",
    "\n",
    "list1 = [9,5,43,5]\n",
    "list1.sort()\n",
    "print(list1[0])\n",
    "\n",
    "OR\n",
    "\n",
    "list1 = [9,5,43,5]\n",
    "print(min(list1))\n",
    "\n",
    "OR\n",
    "\n",
    "num = int(input(\"Enter no. of elements in the list : \"))\n",
    "list1 = []\n",
    "for i in range(0,num):\n",
    "    n = int(input(\"Enter element : \"))\n",
    "    list1.append(n)\n",
    "    \n",
    "print(\"smallest number is \", min(list1))\n",
    "\n",
    "\n",
    "\"\"\""
   ]
  },
  {
   "cell_type": "code",
   "execution_count": 3,
   "id": "eb58e97e",
   "metadata": {},
   "outputs": [
    {
     "name": "stdout",
     "output_type": "stream",
     "text": [
      "Largest element is  43\n"
     ]
    }
   ],
   "source": [
    "\"\"\"\n",
    "\n",
    "4. Write a Python program to find largest number in a list?\n",
    "\n",
    "Ans:\n",
    "    \n",
    "list1 = [9,5,43,5]\n",
    "print(\"Largest element is \", max(list1))\n",
    "\n",
    "OR\n",
    "\n",
    "list1 = [9,5,43,5]\n",
    "list1.sort()\n",
    "print(list1[3])\n",
    "\n",
    "OR\n",
    "\n",
    "num = int(input(\"Enter no. of elements in the list : \"))\n",
    "list1 = []\n",
    "for i in range(0,num):\n",
    "    n = int(input(\"Enter element : \"))\n",
    "    list1.append(n)\n",
    "    \n",
    "print(\"Largest number is \", max(list1))\n",
    "\n",
    "\"\"\""
   ]
  },
  {
   "cell_type": "code",
   "execution_count": 13,
   "id": "0ff8c8d1",
   "metadata": {},
   "outputs": [
    {
     "name": "stdout",
     "output_type": "stream",
     "text": [
      "Second largest element is 9\n"
     ]
    }
   ],
   "source": [
    "\"\"\"\n",
    "5. Write a Python program to find second largest number in a list?\n",
    "Ans:\n",
    "\n",
    "list1 = [9,5,43,5]\n",
    "list1.sort()\n",
    "print(\"Second largest element is\", list1[-2])\n",
    "\n",
    "\"\"\""
   ]
  },
  {
   "cell_type": "code",
   "execution_count": null,
   "id": "53ad6dee",
   "metadata": {},
   "outputs": [],
   "source": [
    "\"\"\"\n",
    "6. Write a Python program to find N largest elements from a list?\n",
    "\n",
    "Ans:\n",
    "\n",
    "n = int(input())\n",
    "l = [1,34,22,55,66,78,100]\n",
    "l.sort()\n",
    "print(l[-n:])\n",
    "\"\"\""
   ]
  },
  {
   "cell_type": "code",
   "execution_count": null,
   "id": "30ed328c",
   "metadata": {},
   "outputs": [],
   "source": [
    "\"\"\"\n",
    "7. Write a Python program to print even numbers in a list?\n",
    "\n",
    "Ans:\n",
    "    \n",
    "list1 = [2,1,3,4,6,8,10]\n",
    "for i in list1:\n",
    "    if(i%2==0):\n",
    "        print(i, end = ' ')\n",
    "        \n",
    "\"\"\""
   ]
  },
  {
   "cell_type": "code",
   "execution_count": 8,
   "id": "4e561609",
   "metadata": {},
   "outputs": [
    {
     "name": "stdout",
     "output_type": "stream",
     "text": [
      "1 3 5 "
     ]
    }
   ],
   "source": [
    "\"\"\"\n",
    "8. Write a Python program to print odd numbers in a List?\n",
    "Ans:\n",
    "list1 = [2,1,3,5,6,8,10]\n",
    "for i in list1:\n",
    "    if(i%2==0):\n",
    "        continue\n",
    "    else:\n",
    "        print(i, end = ' ' )\n",
    "        \n",
    "\"\"\""
   ]
  },
  {
   "cell_type": "code",
   "execution_count": 14,
   "id": "89c9da52",
   "metadata": {},
   "outputs": [
    {
     "name": "stdout",
     "output_type": "stream",
     "text": [
      "2 1 3 5 "
     ]
    }
   ],
   "source": [
    "\"\"\"\n",
    "9. Write a Python program to Remove empty List from List?\n",
    "Ans:\n",
    "list1 = [2,1,3, [], 5,[],[]]\n",
    "for i in list1:\n",
    "    if i != []:\n",
    "        print(i, end = ' ')\n",
    "\n",
    "\"\"\""
   ]
  },
  {
   "cell_type": "code",
   "execution_count": null,
   "id": "9ee957b8",
   "metadata": {},
   "outputs": [],
   "source": [
    "\"\"\"\n",
    "10. Write a Python program to Cloning or Copying a list?\n",
    "\n",
    "Ans:\n",
    "    \n",
    "import copy\n",
    "list1 = [3,4,55,7]\n",
    "list2 = copy.copy(list1)\n",
    "print(list2)\n",
    "\"\"\""
   ]
  },
  {
   "cell_type": "code",
   "execution_count": null,
   "id": "09734cc9",
   "metadata": {},
   "outputs": [],
   "source": [
    "\"\"\"\n",
    "11. Write a Python program to Count occurrences of an element in a list?\n",
    "\n",
    "Ans:\n",
    "from collections import Counter\n",
    "list1 = [1,23,4,5,77,1,1,1]\n",
    "x = 1\n",
    "l = Counter(list1)\n",
    "print('{} has occured {} times'.format(x, l[x]))\n",
    "\n",
    "\n",
    "\"\"\""
   ]
  }
 ],
 "metadata": {
  "kernelspec": {
   "display_name": "Python 3 (ipykernel)",
   "language": "python",
   "name": "python3"
  },
  "language_info": {
   "codemirror_mode": {
    "name": "ipython",
    "version": 3
   },
   "file_extension": ".py",
   "mimetype": "text/x-python",
   "name": "python",
   "nbconvert_exporter": "python",
   "pygments_lexer": "ipython3",
   "version": "3.9.12"
  }
 },
 "nbformat": 4,
 "nbformat_minor": 5
}
